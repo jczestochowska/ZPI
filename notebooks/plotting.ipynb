{
 "cells": [
  {
   "cell_type": "code",
   "execution_count": 1,
   "metadata": {
    "collapsed": true
   },
   "outputs": [
    {
     "ename": "ModuleNotFoundError",
     "evalue": "No module named 'game_session'",
     "traceback": [
      "\u001b[0;31m---------------------------------------------------------------------------\u001b[0m",
      "\u001b[0;31mModuleNotFoundError\u001b[0m                       Traceback (most recent call last)",
      "\u001b[0;32m<ipython-input-1-6d3c529f4819>\u001b[0m in \u001b[0;36m<module>\u001b[0;34m()\u001b[0m\n\u001b[0;32m----> 1\u001b[0;31m \u001b[0;32mfrom\u001b[0m \u001b[0mgame_session\u001b[0m \u001b[0;32mimport\u001b[0m \u001b[0mGameSession\u001b[0m\u001b[0;34m\u001b[0m\u001b[0m\n\u001b[0m\u001b[1;32m      2\u001b[0m \u001b[0;32mfrom\u001b[0m \u001b[0mmodels\u001b[0m \u001b[0;32mimport\u001b[0m \u001b[0mEstimator\u001b[0m\u001b[0;34m,\u001b[0m \u001b[0mQlearning\u001b[0m\u001b[0;34m\u001b[0m\u001b[0m\n\u001b[1;32m      3\u001b[0m \u001b[0;32mfrom\u001b[0m \u001b[0mplayer\u001b[0m \u001b[0;32mimport\u001b[0m \u001b[0mRealPlayer\u001b[0m\u001b[0;34m,\u001b[0m \u001b[0mVirtualPlayer\u001b[0m\u001b[0;34m\u001b[0m\u001b[0m\n\u001b[1;32m      4\u001b[0m \u001b[0;34m\u001b[0m\u001b[0m\n\u001b[1;32m      5\u001b[0m \u001b[0;32mfrom\u001b[0m \u001b[0mmpl_toolkits\u001b[0m\u001b[0;34m.\u001b[0m\u001b[0mmplot3d\u001b[0m \u001b[0;32mimport\u001b[0m \u001b[0mAxes3D\u001b[0m\u001b[0;34m\u001b[0m\u001b[0m\n",
      "\u001b[0;31mModuleNotFoundError\u001b[0m: No module named 'game_session'"
     ],
     "output_type": "error"
    }
   ],
   "source": [
    "from scripts.game_session import GameSession\n",
    "from scripts.models import Estimator, Qlearning\n",
    "from scripts.player import RealPlayer, VirtualPlayer\n",
    "\n",
    "from mpl_toolkits.mplot3d import Axes3D\n",
    "import matplotlib.pyplot as plt\n",
    "\n",
    "import numpy as np\n",
    "\n",
    "# rp = RealPlayer(\"/home/jczestochowska/workspace/ZPI/data/OlaBrudeckalearning.xls\")\n",
    "\n",
    "game = GameSession()\n",
    "player = VirtualPlayer(game.game_skeleton, 10, 0.1)\n",
    "model = Qlearning()\n",
    "game.play(player=player, model=model)\n",
    "game._create_result()\n",
    "rp = game.result\n",
    "\n",
    "estimator = Estimator(decisions=rp['Action'].tolist(),\n",
    "                      condition_left=rp['StimulusLeft'].tolist(),\n",
    "                      condition_right=rp['StimulusRight'].tolist(),\n",
    "                      rewards=rp['Reward'].tolist(), model=model)\n",
    "\n",
    "fig = plt.figure()\n",
    "ax = fig.add_subplot(111, projection='3d')\n",
    "\n",
    "T = np.arange(-10, 10, 1)\n",
    "print(T.shape)\n",
    "alpha = np.arange(-1, 1, 0.1)\n",
    "print(alpha.shape)\n",
    "\n",
    "X, Y = np.meshgrid(T, alpha)\n",
    "\n",
    "zs = np.array([estimator.log_likelihood_function(list(x)) for x in zip(np.ravel(X), np.ravel(Y))])\n",
    "Z = zs.reshape(X.shape)\n",
    "\n",
    "ax.plot_surface(X, Y, Z)\n",
    "\n",
    "ax.set_xlabel('T')\n",
    "ax.set_ylabel('alpha')\n",
    "ax.set_zlabel('log likelihood')\n",
    "\n",
    "plt.show()\n"
   ]
  },
  {
   "cell_type": "code",
   "execution_count": null,
   "metadata": {},
   "outputs": [],
   "source": []
  }
 ],
 "metadata": {
  "kernelspec": {
   "display_name": "Python 2",
   "language": "python",
   "name": "python2"
  },
  "language_info": {
   "codemirror_mode": {
    "name": "ipython",
    "version": 2
   },
   "file_extension": ".py",
   "mimetype": "text/x-python",
   "name": "python",
   "nbconvert_exporter": "python",
   "pygments_lexer": "ipython2",
   "version": "2.7.6"
  }
 },
 "nbformat": 4,
 "nbformat_minor": 0
}
